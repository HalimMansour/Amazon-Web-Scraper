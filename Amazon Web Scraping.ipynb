{
 "cells": [
  {
   "cell_type": "code",
   "execution_count": 11,
   "id": "abff03a5",
   "metadata": {},
   "outputs": [],
   "source": [
    "import datetime\n",
    "import csv\n",
    "import time\n",
    "import smtplib\n",
    "from bs4 import BeautifulSoup\n",
    "import requests\n",
    "import pandas as pd\n"
   ]
  },
  {
   "cell_type": "code",
   "execution_count": null,
   "id": "5c13570c",
   "metadata": {},
   "outputs": [],
   "source": [
    "def get_page_soup(url, headers):\n",
    "    response = requests.get(url, headers=headers)\n",
    "    return BeautifulSoup(response.content, \"html.parser\")\n",
    "\n",
    "def get_product_info(soup):\n",
    "    title = soup.find(id='productTitle').get_text().strip()\n",
    "    price = soup.find(id='priceblock_ourprice').get_text().strip()[1:]\n",
    "    return title, price\n",
    "\n",
    "def write_to_csv(filename, data):\n",
    "    header = ['Title', 'Price', 'Date']\n",
    "    with open(filename, 'a+', newline='', encoding='UTF8') as f:\n",
    "        writer = csv.writer(f)\n",
    "        writer.writerow(header)\n",
    "        writer.writerow(data)\n",
    "\n",
    "def append_to_csv(filename, data):\n",
    "    with open(filename, 'a+', newline='', encoding='UTF8') as f:\n",
    "        writer = csv.writer(f)\n",
    "        writer.writerow(data)\n",
    "\n",
    "def check_price(url, headers, filename):\n",
    "    soup = get_page_soup(url, headers)\n",
    "    title, price = get_product_info(soup)\n",
    "    today = datetime.date.today()\n",
    "    data = [title, price, today]\n",
    "    write_to_csv(filename, data)"
   ]
  },
  {
   "cell_type": "code",
   "execution_count": null,
   "id": "ae8c091b",
   "metadata": {},
   "outputs": [],
   "source": [
    "\n",
    "# Set up constants\n",
    "URL = 'https://www.amazon.com/Gildan-V-Neck-T-Shirts-Multipacks-Black/dp/B07JBRCX8X/ref=sr_1_42?crid=4JPH4XVBHQ0Q&keywords=t-shirt&qid=1688730957&sprefix=t+shir%2Caps%2C400&sr=8-42'\n",
    "HEADERS = {\n",
    "    \"User-Agent\": \"Mozilla/5.0 (Windows NT 10.0; Win64; x64) AppleWebKit/537.36 (KHTML, like Gecko) Chrome/78.0.3904.108 Safari/537.36\",\n",
    "    \"Accept-Encoding\": \"gzip, deflate\",\n",
    "    \"Accept\": \"text/html,application/xhtml+xml,application/xml;q=0.9,*/*;q=0.8\",\n",
    "    \"DNT\": \"1\",\n",
    "    \"Connection\": \"close\",\n",
    "    \"Upgrade-Insecure-Requests\": \"1\"\n",
    "}\n",
    "FILENAME = 'AmazonWebScraperDataset.csv'"
   ]
  },
  {
   "cell_type": "code",
   "execution_count": null,
   "id": "2396f9ec",
   "metadata": {},
   "outputs": [],
   "source": [
    "# Run check_price after a set time and append data to the CSV\n",
    "while True:\n",
    "    check_price(URL, HEADERS, FILENAME)\n",
    "    time.sleep(86400)\n",
    "\n",
    "# Read CSV into DataFrame\n",
    "df = pd.read_csv('AmazonWebScraperDataset.csv')\n",
    "print(df)\n"
   ]
  },
  {
   "cell_type": "code",
   "execution_count": null,
   "id": "eb1a7c75",
   "metadata": {},
   "outputs": [],
   "source": [
    "\n",
    "# Send an email when the price hits below a certain level\n",
    "def send_mail():\n",
    "    server = smtplib.SMTP_SSL('smtp.gmail.com', 465)\n",
    "    server.ehlo()\n",
    "    server.login('halimmansour99@gmail.com', 'xxxxxxxxxxxxxx')\n",
    "\n",
    "    subject = \"The Shirt you want is below $15! Now is your chance to buy!\"\n",
    "    body = \"Halim, This is the moment we have been waiting for. Now is your chance to pick up the shirt of your dreams. Don't mess it up! Link here: https://www.amazon.com/Funny-Data-Systems-Business-Analyst/dp/B07FNW9FGJ/ref=sr_1_3?dchild=1&keywords=data+analyst+tshirt&qid=1626655184&sr=8-3\"\n",
    "\n",
    "    msg = f\"Subject: {subject}\\n\\n{body}\"\n",
    "\n",
    "    server.sendmail('halimmansour99@gmail.com', msg)\n",
    "\n",
    "# Call send_mail function if the price drops below a certain level\n",
    "# (add the necessary conditions and logic to trigger the email)\n",
    "if price < 15:\n",
    "    send_mail()"
   ]
  },
  {
   "cell_type": "code",
   "execution_count": null,
   "id": "da40eaf1",
   "metadata": {},
   "outputs": [],
   "source": []
  }
 ],
 "metadata": {
  "kernelspec": {
   "display_name": "Python 3 (ipykernel)",
   "language": "python",
   "name": "python3"
  },
  "language_info": {
   "codemirror_mode": {
    "name": "ipython",
    "version": 3
   },
   "file_extension": ".py",
   "mimetype": "text/x-python",
   "name": "python",
   "nbconvert_exporter": "python",
   "pygments_lexer": "ipython3",
   "version": "3.8.12"
  }
 },
 "nbformat": 4,
 "nbformat_minor": 5
}
